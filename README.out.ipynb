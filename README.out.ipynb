{
 "cells": [
  {
   "cell_type": "markdown",
   "metadata": {},
   "source": [
    "# \n",
    "\n",
    "## Quarto Manuscript"
   ],
   "id": "d3ce67e5-a8ff-4dd0-82ff-d3ee9a17bda7"
  },
  {
   "cell_type": "raw",
   "metadata": {
    "raw_mimetype": "text/html"
   },
   "source": [
    "<!-- badges: start -->"
   ],
   "id": "138a23b5-2eda-4ce1-a6ab-f10f7ff4f557"
  },
  {
   "cell_type": "markdown",
   "metadata": {},
   "source": [
    "[![paper](https://github.com/sds-capstone/quarto-manuscript/actions/workflows/publish.yml/badge.svg)](https://github.com/sds-capstone/quarto-manuscript/actions/workflows/publish.yml) <!-- badges: end -->\n",
    "\n",
    "You can view the published work at: <https://sds-capstone.github.io/quarto-manuscript/>\n",
    "\n",
    "## Note\n",
    "\n",
    "This is a template repo for generating a manuscript from Quarto that accompanies the tutorial at: [Quarto Manuscripts: RStudio](https://quarto.org/docs/manuscripts/authoring/rstudio.html)\n",
    "\n",
    "## Repository analysis via `chchchanges`\n",
    "\n",
    "### Current as of: March 21, 2025, 15:47:55\n",
    "\n",
    "Here is a summary of the commits made to this repository:"
   ],
   "id": "330d06a2-751a-475a-a363-6a7a1e078f3e"
  },
  {
   "cell_type": "code",
   "execution_count": null,
   "metadata": {},
   "outputs": [
    {
     "output_type": "display_data",
     "metadata": {},
     "data": {}
    }
   ],
   "source": [
    "chchchanges::summarize_commits() |>\n",
    "  knitr::kable()"
   ],
   "id": "e5c5d47d-0af7-4480-918e-6d2e172023b7"
  },
  {
   "cell_type": "markdown",
   "metadata": {},
   "source": [
    "The following analysis is automated via [Google Gemini](https://en.wikipedia.org/wiki/Gemini_(chatbot)) and the [`chchchanges`](https://github.com/beanumber/chchchanges) package.\n",
    "\n",
    "``` r\n",
    "chchchanges::summarize_git_with_llm(\n",
    "  show_prompts = TRUE, \n",
    "  user_prompt = \"Also assign letter grades to each contributor. \"\n",
    ") |>\n",
    "  markdown::mark()\n",
    "```\n",
    "\n",
    "    Using model = \"gemini-2.0-flash\".\n",
    "    System prompt: You are a friendly, supportive, college professor \n",
    "        evaluating student contributions to a git repository.\n",
    "\n",
    "    Prompt: Analyze the following data from a git repository \n",
    "        and tell me who deserves what credit for \n",
    "        contributing to the project. \n",
    "         Also assign letter grades to each contributor.  [{\"who\":\"ben.baumer@gmail.com\",\"num_commits\":1,\"first_commit\":\"2025-03-21 15:45:36 GMT\",\"last_commit\":\"2025-03-21 15:45:36 GMT\",\"days\":0}]\n",
    "\n",
    "\\[1\\] “"
   ],
   "id": "06f729b1-2085-43cc-be6f-5df3c955c429"
  },
  {
   "cell_type": "raw",
   "metadata": {
    "raw_mimetype": "text/html"
   },
   "source": [
    "<p>"
   ],
   "id": "d77a783b-338f-44da-b783-92a8c60c2981"
  },
  {
   "cell_type": "markdown",
   "metadata": {},
   "source": [
    "Okay, I’m happy to evaluate the contributions to this project. Based on the data you’ve provided, here’s my assessment:"
   ],
   "id": "c466dd26-5495-4128-b5c6-670095781744"
  },
  {
   "cell_type": "raw",
   "metadata": {
    "raw_mimetype": "text/html"
   },
   "source": [
    "</p>"
   ],
   "id": "9cf2c520-cd9b-4e78-97d5-af0a58eb0f49"
  },
  {
   "cell_type": "markdown",
   "metadata": {},
   "source": [],
   "id": "31ed7964-d208-4c28-845a-80ae6e003254"
  },
  {
   "cell_type": "raw",
   "metadata": {
    "raw_mimetype": "text/html"
   },
   "source": [
    "<p>"
   ],
   "id": "ff7f02d7-222e-4cab-9e8f-86457a376d4c"
  },
  {
   "cell_type": "markdown",
   "metadata": {},
   "source": [
    "<strong>Contributor: <a href=\\\"mailto:ben.baumer@gmail.com\\\">ben.baumer@gmail.com</a></strong>"
   ],
   "id": "dbcfb36f-dfc2-43cf-979e-0b092b0fba65"
  },
  {
   "cell_type": "raw",
   "metadata": {
    "raw_mimetype": "text/html"
   },
   "source": [
    "</p>"
   ],
   "id": "bdfb9393-fc35-4b34-a9df-0145ebaf681d"
  },
  {
   "cell_type": "markdown",
   "metadata": {},
   "source": [],
   "id": "014d5703-ad4c-4b67-8246-baf9f9aa7983"
  },
  {
   "cell_type": "raw",
   "metadata": {
    "raw_mimetype": "text/html"
   },
   "source": [
    "<ul>"
   ],
   "id": "321e6823-5019-4bec-815a-d24337f60731"
  },
  {
   "cell_type": "markdown",
   "metadata": {},
   "source": [],
   "id": "a31db255-70fc-4782-8423-1553574239a5"
  },
  {
   "cell_type": "raw",
   "metadata": {
    "raw_mimetype": "text/html"
   },
   "source": [
    "<li>"
   ],
   "id": "3bca9d98-ecb1-43bf-9737-b68a6b3d6d6e"
  },
  {
   "cell_type": "markdown",
   "metadata": {},
   "source": [
    "<strong>Commits:</strong> 1"
   ],
   "id": "27d4717e-25ca-4e03-8b0e-ed2b1eedfb51"
  },
  {
   "cell_type": "raw",
   "metadata": {
    "raw_mimetype": "text/html"
   },
   "source": [
    "</li>"
   ],
   "id": "8993097e-c881-4a97-9e0c-c2029bb2213b"
  },
  {
   "cell_type": "markdown",
   "metadata": {},
   "source": [],
   "id": "85e23e9a-b256-4170-8698-c633e5d302c2"
  },
  {
   "cell_type": "raw",
   "metadata": {
    "raw_mimetype": "text/html"
   },
   "source": [
    "<li>"
   ],
   "id": "478dd4a8-61fe-4913-a1bf-5d6246098f90"
  },
  {
   "cell_type": "markdown",
   "metadata": {},
   "source": [
    "<strong>Active Days:</strong> 1 (all activity on a single day)"
   ],
   "id": "88100e4b-c7ca-4803-84a1-c12b9d49fda0"
  },
  {
   "cell_type": "raw",
   "metadata": {
    "raw_mimetype": "text/html"
   },
   "source": [
    "</li>"
   ],
   "id": "aeccc24b-c315-4b52-ba6c-9a2dad1e21ec"
  },
  {
   "cell_type": "markdown",
   "metadata": {},
   "source": [],
   "id": "59739431-e0a8-4fa7-a9e2-36980faff72a"
  },
  {
   "cell_type": "raw",
   "metadata": {
    "raw_mimetype": "text/html"
   },
   "source": [
    "</ul>"
   ],
   "id": "9e4693de-b8b2-44a4-afb0-4586952c7914"
  },
  {
   "cell_type": "markdown",
   "metadata": {},
   "source": [],
   "id": "7599f3f1-6f0e-4280-bd97-d7d194cd6a77"
  },
  {
   "cell_type": "raw",
   "metadata": {
    "raw_mimetype": "text/html"
   },
   "source": [
    "<p>"
   ],
   "id": "322181af-f176-4975-811c-43e75cc4a322"
  },
  {
   "cell_type": "markdown",
   "metadata": {},
   "source": [
    "<strong>Analysis:</strong>"
   ],
   "id": "b7866fbe-2930-40a2-ba6d-9075d8dad4fc"
  },
  {
   "cell_type": "raw",
   "metadata": {
    "raw_mimetype": "text/html"
   },
   "source": [
    "</p>"
   ],
   "id": "19806114-1ddd-4360-9103-02de4edf5931"
  },
  {
   "cell_type": "markdown",
   "metadata": {},
   "source": [],
   "id": "754e16ab-cc74-43b1-ab5a-cec49fea9bb0"
  },
  {
   "cell_type": "raw",
   "metadata": {
    "raw_mimetype": "text/html"
   },
   "source": [
    "<p>"
   ],
   "id": "b914ca4f-1eb6-409d-bb7a-6bdc484f24d7"
  },
  {
   "cell_type": "markdown",
   "metadata": {},
   "source": [
    "Ben has made a single commit to the repository. While it’s great to see <em>some</em> contribution, a single commit doesn’t provide much insight into the depth or breadth of their engagement with the project. It’s difficult to assess the complexity or significance of this one contribution without seeing the actual code or knowing the project goals."
   ],
   "id": "56112910-ea56-4fdb-9e05-861029f41b08"
  },
  {
   "cell_type": "raw",
   "metadata": {
    "raw_mimetype": "text/html"
   },
   "source": [
    "</p>"
   ],
   "id": "8969988c-5153-463b-9009-4dd01f833138"
  },
  {
   "cell_type": "markdown",
   "metadata": {},
   "source": [],
   "id": "d54e93a3-eb6d-404b-b47a-fd88a15c5b30"
  },
  {
   "cell_type": "raw",
   "metadata": {
    "raw_mimetype": "text/html"
   },
   "source": [
    "<p>"
   ],
   "id": "d9cdbcca-e9fc-46aa-abaf-12e085732a5c"
  },
  {
   "cell_type": "markdown",
   "metadata": {},
   "source": [
    "<strong>Grade: C</strong>"
   ],
   "id": "6a3bc3d7-e890-4dd8-a2ce-61dc6df8c03f"
  },
  {
   "cell_type": "raw",
   "metadata": {
    "raw_mimetype": "text/html"
   },
   "source": [
    "</p>"
   ],
   "id": "be0ec784-737d-4cda-94f9-5d0e206bf53f"
  },
  {
   "cell_type": "markdown",
   "metadata": {},
   "source": [],
   "id": "868a9706-363f-486c-8f80-85bd046a1e3b"
  },
  {
   "cell_type": "raw",
   "metadata": {
    "raw_mimetype": "text/html"
   },
   "source": [
    "<p>"
   ],
   "id": "3489e5eb-3a08-415b-a217-ed070a0eb57a"
  },
  {
   "cell_type": "markdown",
   "metadata": {},
   "source": [
    "<strong>Explanation:</strong>"
   ],
   "id": "2685d0fc-4424-4609-a4f2-a14a3a31d696"
  },
  {
   "cell_type": "raw",
   "metadata": {
    "raw_mimetype": "text/html"
   },
   "source": [
    "</p>"
   ],
   "id": "09830e8c-5a64-49d6-beb1-0ebd0f152406"
  },
  {
   "cell_type": "markdown",
   "metadata": {},
   "source": [],
   "id": "f4f0ed1d-7eda-45d4-b13a-b1b12edc4f37"
  },
  {
   "cell_type": "raw",
   "metadata": {
    "raw_mimetype": "text/html"
   },
   "source": [
    "<p>"
   ],
   "id": "c7684d28-cf36-478a-b0b1-279a4e08399e"
  },
  {
   "cell_type": "markdown",
   "metadata": {},
   "source": [
    "A “C” grade reflects a minimal level of participation. It indicates that Ben has met the basic requirement of contributing <em>something</em> to the project. To improve this grade, future contributions should demonstrate more consistent engagement, a larger volume of work, or contributions that address more complex aspects of the project."
   ],
   "id": "a88ad5fd-214b-489c-ba28-a1dea95a832a"
  },
  {
   "cell_type": "raw",
   "metadata": {
    "raw_mimetype": "text/html"
   },
   "source": [
    "</p>"
   ],
   "id": "a4ce21ba-a5f3-43f7-af20-beb0e3ab0958"
  },
  {
   "cell_type": "markdown",
   "metadata": {},
   "source": [
    "”"
   ],
   "id": "c0ec29fd-be68-4809-a9d3-695c6962dbcc"
  }
 ],
 "nbformat": 4,
 "nbformat_minor": 5,
 "metadata": {}
}
