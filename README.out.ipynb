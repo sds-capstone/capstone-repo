{
 "cells": [
  {
   "cell_type": "markdown",
   "metadata": {},
   "source": [
    "# \n",
    "\n",
    "## Quarto Manuscript"
   ],
   "id": "68b7fd85-2d86-48fe-a306-6194cceaabe0"
  },
  {
   "cell_type": "raw",
   "metadata": {
    "raw_mimetype": "text/html"
   },
   "source": [
    "<!-- badges: start -->"
   ],
   "id": "3c0f85ec-f8de-421c-90ba-0c8c3d7f99e3"
  },
  {
   "cell_type": "markdown",
   "metadata": {},
   "source": [
    "[![paper](https://github.com/sds-capstone/quarto-manuscript/actions/workflows/publish.yml/badge.svg)](https://github.com/sds-capstone/quarto-manuscript/actions/workflows/publish.yml) <!-- badges: end -->\n",
    "\n",
    "You can view the published work at: <https://sds-capstone.github.io/quarto-manuscript/>\n",
    "\n",
    "## Note\n",
    "\n",
    "This is a template repo for generating a manuscript from Quarto that accompanies the tutorial at: [Quarto Manuscripts: RStudio](https://quarto.org/docs/manuscripts/authoring/rstudio.html)\n",
    "\n",
    "## Repository analysis via `chchchanges`\n",
    "\n",
    "### Current as of: March 21, 2025, 15:11:15\n",
    "\n",
    "Here is a summary of the commits made to this repository:"
   ],
   "id": "4fb878c8-8339-45ee-9dde-699fc1216251"
  },
  {
   "cell_type": "code",
   "execution_count": null,
   "metadata": {},
   "outputs": [
    {
     "output_type": "display_data",
     "metadata": {},
     "data": {}
    }
   ],
   "source": [
    "chchchanges::summarize_commits() |>\n",
    "  knitr::kable()"
   ],
   "id": "3db1956c-dbd1-4777-acfa-eecd6bd52060"
  },
  {
   "cell_type": "markdown",
   "metadata": {},
   "source": [
    "The following analysis is automated via [Google Gemini](https://en.wikipedia.org/wiki/Gemini_(chatbot)) and the [`chchchanges`](https://github.com/beanumber/chchchanges) package.\n",
    "\n",
    "``` r\n",
    "chchchanges::summarize_git_with_llm(\n",
    "  show_prompts = TRUE, \n",
    "  user_prompt = \"Also assign letter grades to each contributor. \"\n",
    ") |>\n",
    "  markdown::mark()\n",
    "```\n",
    "\n",
    "    Using model = \"gemini-2.0-flash\".\n",
    "    System prompt: You are a friendly, supportive, college professor \n",
    "        evaluating student contributions to a git repository.\n",
    "\n",
    "    Prompt: Analyze the following data from a git repository \n",
    "        and tell me who deserves what credit for \n",
    "        contributing to the project. \n",
    "         Also assign letter grades to each contributor.  [{\"who\":\"ben.baumer@gmail.com\",\"num_commits\":1,\"first_commit\":\"2025-03-21 15:09:09 GMT\",\"last_commit\":\"2025-03-21 15:09:09 GMT\",\"days\":0}]\n",
    "\n",
    "\\[1\\] “"
   ],
   "id": "7fa0f5eb-1879-421b-80a7-f5d5a0fe55da"
  },
  {
   "cell_type": "raw",
   "metadata": {
    "raw_mimetype": "text/html"
   },
   "source": [
    "<p>"
   ],
   "id": "44c4fecf-ef02-49f6-8f49-d4dd31041a5e"
  },
  {
   "cell_type": "markdown",
   "metadata": {},
   "source": [
    "Okay, let’s break down this contribution data and assign credit and grades."
   ],
   "id": "2441ac96-64a5-4be5-82b5-b206bb6854cc"
  },
  {
   "cell_type": "raw",
   "metadata": {
    "raw_mimetype": "text/html"
   },
   "source": [
    "</p>"
   ],
   "id": "703e4dc8-9b7a-448a-a556-0e8b76cf9617"
  },
  {
   "cell_type": "markdown",
   "metadata": {},
   "source": [],
   "id": "de421fc2-fcb6-482e-991a-d6bb12e2cbc7"
  },
  {
   "cell_type": "raw",
   "metadata": {
    "raw_mimetype": "text/html"
   },
   "source": [
    "<p>"
   ],
   "id": "9f16d162-a0ec-4d3f-9472-1d34480ddeea"
  },
  {
   "cell_type": "markdown",
   "metadata": {},
   "source": [
    "<strong>Analysis:</strong>"
   ],
   "id": "4607feda-5d39-4195-97fa-58439f25cad4"
  },
  {
   "cell_type": "raw",
   "metadata": {
    "raw_mimetype": "text/html"
   },
   "source": [
    "</p>"
   ],
   "id": "11654d1f-fbc3-4b4e-98dd-c758ec1cf91b"
  },
  {
   "cell_type": "markdown",
   "metadata": {},
   "source": [],
   "id": "395cfd99-5bc9-4713-9f68-64e1fe6cf66b"
  },
  {
   "cell_type": "raw",
   "metadata": {
    "raw_mimetype": "text/html"
   },
   "source": [
    "<p>"
   ],
   "id": "1894d2dd-222f-4909-a454-533dec9a7bcc"
  },
  {
   "cell_type": "markdown",
   "metadata": {},
   "source": [
    "We have one contributor:"
   ],
   "id": "5b9b6516-1176-41c0-8947-b2c973bdf160"
  },
  {
   "cell_type": "raw",
   "metadata": {
    "raw_mimetype": "text/html"
   },
   "source": [
    "</p>"
   ],
   "id": "ebc056d7-44aa-4728-be0e-357cbabc711e"
  },
  {
   "cell_type": "markdown",
   "metadata": {},
   "source": [],
   "id": "f5c85c15-1583-4b25-812a-8620450b14e6"
  },
  {
   "cell_type": "raw",
   "metadata": {
    "raw_mimetype": "text/html"
   },
   "source": [
    "<ul>"
   ],
   "id": "b9ecdf20-9124-4b78-82b8-a2a7f5ad1bc8"
  },
  {
   "cell_type": "markdown",
   "metadata": {},
   "source": [],
   "id": "63c08022-e5aa-49cc-92cd-18dc1851d6e3"
  },
  {
   "cell_type": "raw",
   "metadata": {
    "raw_mimetype": "text/html"
   },
   "source": [
    "<li>"
   ],
   "id": "12efdb82-bda3-4792-8904-1ba907da34ae"
  },
  {
   "cell_type": "markdown",
   "metadata": {},
   "source": [
    "<strong><a href=\\\"mailto:ben.baumer@gmail.com\\\">ben.baumer@gmail.com</a>:</strong> Made 1 commit on 2025-03-21. All activity was contained on that single day."
   ],
   "id": "75999811-9f9e-4f71-bb8a-760590e030da"
  },
  {
   "cell_type": "raw",
   "metadata": {
    "raw_mimetype": "text/html"
   },
   "source": [
    "</li>"
   ],
   "id": "81a1042b-e7ce-43ad-bc8d-913dd570531e"
  },
  {
   "cell_type": "markdown",
   "metadata": {},
   "source": [],
   "id": "f876b173-7b1b-4af1-bf69-7bef3e20e376"
  },
  {
   "cell_type": "raw",
   "metadata": {
    "raw_mimetype": "text/html"
   },
   "source": [
    "</ul>"
   ],
   "id": "4dbd4b8d-4fdc-46d7-8c6d-92eb96104ddb"
  },
  {
   "cell_type": "markdown",
   "metadata": {},
   "source": [],
   "id": "08657c0b-f035-43e8-bd1b-dd5c4795f2e2"
  },
  {
   "cell_type": "raw",
   "metadata": {
    "raw_mimetype": "text/html"
   },
   "source": [
    "<p>"
   ],
   "id": "dc4370a4-33bd-4d55-a9bf-3c3b3c3488a8"
  },
  {
   "cell_type": "markdown",
   "metadata": {},
   "source": [
    "<strong>Credit Assignment:</strong>"
   ],
   "id": "9c85945a-e642-4e0b-a4d4-38ec4769c6f1"
  },
  {
   "cell_type": "raw",
   "metadata": {
    "raw_mimetype": "text/html"
   },
   "source": [
    "</p>"
   ],
   "id": "085d2808-6ba2-44c3-851b-aed1b10e5b18"
  },
  {
   "cell_type": "markdown",
   "metadata": {},
   "source": [],
   "id": "9495367d-8e66-47c5-b049-ef4462ce5dfb"
  },
  {
   "cell_type": "raw",
   "metadata": {
    "raw_mimetype": "text/html"
   },
   "source": [
    "<ul>"
   ],
   "id": "7cf57836-f824-4519-a5ae-4c78e49b4abc"
  },
  {
   "cell_type": "markdown",
   "metadata": {},
   "source": [],
   "id": "e2a0197c-de01-4e8a-b9ec-b64d4c3e29e2"
  },
  {
   "cell_type": "raw",
   "metadata": {
    "raw_mimetype": "text/html"
   },
   "source": [
    "<li>"
   ],
   "id": "19de221b-05c8-4c70-8985-e4fbeadd2113"
  },
  {
   "cell_type": "markdown",
   "metadata": {},
   "source": [
    "<strong><a href=\\\"mailto:ben.baumer@gmail.com\\\">ben.baumer@gmail.com</a>:</strong> Gets full credit for the work done on the project. Since they’re the only contributor, 100% of the project contribution is attributable to them."
   ],
   "id": "43dbc831-91aa-4d10-8cf0-c610da18d5f6"
  },
  {
   "cell_type": "raw",
   "metadata": {
    "raw_mimetype": "text/html"
   },
   "source": [
    "</li>"
   ],
   "id": "a5d07959-4df1-487e-8918-5b027ff32be6"
  },
  {
   "cell_type": "markdown",
   "metadata": {},
   "source": [],
   "id": "1bd7debf-c487-4c7a-99a0-c921865883ad"
  },
  {
   "cell_type": "raw",
   "metadata": {
    "raw_mimetype": "text/html"
   },
   "source": [
    "</ul>"
   ],
   "id": "4fd20849-7305-4713-a182-2feea92b9dde"
  },
  {
   "cell_type": "markdown",
   "metadata": {},
   "source": [],
   "id": "5e7b4568-fcad-4f42-af17-b0091f870d9d"
  },
  {
   "cell_type": "raw",
   "metadata": {
    "raw_mimetype": "text/html"
   },
   "source": [
    "<p>"
   ],
   "id": "8ea60a45-a5f8-4dce-9538-6905538005f2"
  },
  {
   "cell_type": "markdown",
   "metadata": {},
   "source": [
    "<strong>Letter Grade:</strong>"
   ],
   "id": "ec59f301-b7e0-4c26-8f46-c1ad32c7aad4"
  },
  {
   "cell_type": "raw",
   "metadata": {
    "raw_mimetype": "text/html"
   },
   "source": [
    "</p>"
   ],
   "id": "98350b2e-6539-43a7-9cf1-efc0ffb6b7ad"
  },
  {
   "cell_type": "markdown",
   "metadata": {},
   "source": [],
   "id": "9bd77e24-048e-42ce-b3cb-7f039cf50405"
  },
  {
   "cell_type": "raw",
   "metadata": {
    "raw_mimetype": "text/html"
   },
   "source": [
    "<p>"
   ],
   "id": "bc3b23a3-1f06-4fb4-b301-f9c75445bf5c"
  },
  {
   "cell_type": "markdown",
   "metadata": {},
   "source": [
    "It’s tough to assign a meaningful letter grade based on a single commit without knowing the scope and complexity of the project or the expectations for individual contributions. However, I can offer a grade with caveats."
   ],
   "id": "5f8c3807-16dc-4648-aa43-7fb105a52eb1"
  },
  {
   "cell_type": "raw",
   "metadata": {
    "raw_mimetype": "text/html"
   },
   "source": [
    "</p>"
   ],
   "id": "e5510f75-2568-4574-803a-4c878277e2f5"
  },
  {
   "cell_type": "markdown",
   "metadata": {},
   "source": [],
   "id": "97f0d25b-536c-47e1-b768-0f82a4f16ccc"
  },
  {
   "cell_type": "raw",
   "metadata": {
    "raw_mimetype": "text/html"
   },
   "source": [
    "<ul>"
   ],
   "id": "d14e0442-af49-48d7-ae00-d7898d754a8e"
  },
  {
   "cell_type": "markdown",
   "metadata": {},
   "source": [],
   "id": "d3283284-6488-4df9-bad9-a1de654afd0b"
  },
  {
   "cell_type": "raw",
   "metadata": {
    "raw_mimetype": "text/html"
   },
   "source": [
    "<li>"
   ],
   "id": "d06a3348-04c5-43b9-9c92-3b12cb8aef4b"
  },
  {
   "cell_type": "markdown",
   "metadata": {},
   "source": [],
   "id": "051f5b2b-c461-43ad-8f6c-b13be631993d"
  },
  {
   "cell_type": "raw",
   "metadata": {
    "raw_mimetype": "text/html"
   },
   "source": [
    "<p>"
   ],
   "id": "c6d9051b-0670-4e7d-b9c0-9217766a74d4"
  },
  {
   "cell_type": "markdown",
   "metadata": {},
   "source": [
    "<strong><a href=\\\"mailto:ben.baumer@gmail.com\\\">ben.baumer@gmail.com</a>:</strong> I’m going to assign a <strong>C</strong>. Here’s why:"
   ],
   "id": "26eddec6-65b3-49f8-95d4-1d6388535815"
  },
  {
   "cell_type": "raw",
   "metadata": {
    "raw_mimetype": "text/html"
   },
   "source": [
    "</p>"
   ],
   "id": "70d58c5d-894a-4e90-8b51-0190e7975386"
  },
  {
   "cell_type": "markdown",
   "metadata": {},
   "source": [],
   "id": "4a344760-d04b-4e10-8da3-5f1aa83746f2"
  },
  {
   "cell_type": "raw",
   "metadata": {
    "raw_mimetype": "text/html"
   },
   "source": [
    "<ul>"
   ],
   "id": "73984a88-ea86-480d-b42d-e5d472421988"
  },
  {
   "cell_type": "markdown",
   "metadata": {},
   "source": [],
   "id": "c6d015f9-42df-4f61-8e1e-c6a5a7c39851"
  },
  {
   "cell_type": "raw",
   "metadata": {
    "raw_mimetype": "text/html"
   },
   "source": [
    "<li>"
   ],
   "id": "c7677687-5c0b-43aa-8c62-cc85bb448a02"
  },
  {
   "cell_type": "markdown",
   "metadata": {},
   "source": [
    "<strong>Positives:</strong> They did contribute <em>something</em>. They initiated work on the project with at least one commit."
   ],
   "id": "2f8a7301-eb53-4e59-a8fd-e77d8c2f4f48"
  },
  {
   "cell_type": "raw",
   "metadata": {
    "raw_mimetype": "text/html"
   },
   "source": [
    "</li>"
   ],
   "id": "f30e212c-eff6-44ef-b252-ba3be3e00df3"
  },
  {
   "cell_type": "markdown",
   "metadata": {},
   "source": [],
   "id": "b58ec3d9-c5b7-48e8-921b-544087ef9616"
  },
  {
   "cell_type": "raw",
   "metadata": {
    "raw_mimetype": "text/html"
   },
   "source": [
    "<li>"
   ],
   "id": "ac313b5c-e758-4e20-98fe-46d530feded4"
  },
  {
   "cell_type": "markdown",
   "metadata": {},
   "source": [
    "<strong>Negatives:</strong> A single commit may not represent a substantial contribution to the overall project goals. There is no way to know how significant the commit was."
   ],
   "id": "43d1d3ed-15bb-4914-85bd-e2fcdda22450"
  },
  {
   "cell_type": "raw",
   "metadata": {
    "raw_mimetype": "text/html"
   },
   "source": [
    "</li>"
   ],
   "id": "6f48d1f0-a160-41cd-a8e1-2460003dac5e"
  },
  {
   "cell_type": "markdown",
   "metadata": {},
   "source": [],
   "id": "d81ded3c-df82-4cc4-ab85-8b6045f16684"
  },
  {
   "cell_type": "raw",
   "metadata": {
    "raw_mimetype": "text/html"
   },
   "source": [
    "</ul>"
   ],
   "id": "af7c8eb0-45b3-4ea1-8977-0650d5a84ecc"
  },
  {
   "cell_type": "markdown",
   "metadata": {},
   "source": [],
   "id": "32259b01-6ff6-4b1b-90fc-f7b956a6dd66"
  },
  {
   "cell_type": "raw",
   "metadata": {
    "raw_mimetype": "text/html"
   },
   "source": [
    "</li>"
   ],
   "id": "25cad487-7e39-4897-92de-641d7a7386fa"
  },
  {
   "cell_type": "markdown",
   "metadata": {},
   "source": [],
   "id": "3f44ecdc-fd04-42f9-8b86-92a916768ecf"
  },
  {
   "cell_type": "raw",
   "metadata": {
    "raw_mimetype": "text/html"
   },
   "source": [
    "</ul>"
   ],
   "id": "bec72216-0b1f-406b-ab6a-b7e0ac94655e"
  },
  {
   "cell_type": "markdown",
   "metadata": {},
   "source": [],
   "id": "63d1d4e2-fa00-4952-b71f-21062bc8a272"
  },
  {
   "cell_type": "raw",
   "metadata": {
    "raw_mimetype": "text/html"
   },
   "source": [
    "<p>"
   ],
   "id": "1981472c-4c08-47f8-ac8c-e233e770bbd0"
  },
  {
   "cell_type": "markdown",
   "metadata": {},
   "source": [
    "To improve their grade, <a href=\\\"mailto:ben.baumer@gmail.com\\\">ben.baumer@gmail.com</a> should aim for:"
   ],
   "id": "2095a11b-67ad-40ee-826c-86cdc057d238"
  },
  {
   "cell_type": "raw",
   "metadata": {
    "raw_mimetype": "text/html"
   },
   "source": [
    "</p>"
   ],
   "id": "fbe89bb5-3a65-4eef-bf7e-010687733e5a"
  },
  {
   "cell_type": "markdown",
   "metadata": {},
   "source": [],
   "id": "f6d6fb81-cddd-4fde-b75b-ee76e5979af7"
  },
  {
   "cell_type": "raw",
   "metadata": {
    "raw_mimetype": "text/html"
   },
   "source": [
    "<ul>"
   ],
   "id": "7b8db325-aa64-4192-9e73-df0c30cf8f99"
  },
  {
   "cell_type": "markdown",
   "metadata": {},
   "source": [],
   "id": "62ff2768-1ad8-4208-8021-1b335a06eaf3"
  },
  {
   "cell_type": "raw",
   "metadata": {
    "raw_mimetype": "text/html"
   },
   "source": [
    "<li>"
   ],
   "id": "ba88dcbb-6342-4f5d-ad4a-d966bb577eb0"
  },
  {
   "cell_type": "markdown",
   "metadata": {},
   "source": [
    "<strong>More Commits:</strong> Consistent and regular contributions show engagement and a commitment to the project."
   ],
   "id": "267d3745-249e-4638-a32e-9c442c1b6407"
  },
  {
   "cell_type": "raw",
   "metadata": {
    "raw_mimetype": "text/html"
   },
   "source": [
    "</li>"
   ],
   "id": "2c68dd3c-0ee7-440f-a386-390f55eb1f7a"
  },
  {
   "cell_type": "markdown",
   "metadata": {},
   "source": [],
   "id": "ce0df6ce-330d-45ad-ba30-99e51ca44bb0"
  },
  {
   "cell_type": "raw",
   "metadata": {
    "raw_mimetype": "text/html"
   },
   "source": [
    "<li>"
   ],
   "id": "c57f5c23-30c2-4fac-ae7c-5d359506e701"
  },
  {
   "cell_type": "markdown",
   "metadata": {},
   "source": [
    "<strong>Larger Contributions:</strong> Commits that address significant features, bug fixes, or improvements will demonstrate a deeper understanding and impact."
   ],
   "id": "3684442e-41ab-4314-bf0b-4b31f08bf5c9"
  },
  {
   "cell_type": "raw",
   "metadata": {
    "raw_mimetype": "text/html"
   },
   "source": [
    "</li>"
   ],
   "id": "24f2b030-7af6-49a4-b5ea-b68768f96d93"
  },
  {
   "cell_type": "markdown",
   "metadata": {},
   "source": [],
   "id": "d4b8e2f9-6517-4406-9240-d1d4a2eecaf6"
  },
  {
   "cell_type": "raw",
   "metadata": {
    "raw_mimetype": "text/html"
   },
   "source": [
    "<li>"
   ],
   "id": "c645ec1d-ccd5-4938-941e-9e29fd845292"
  },
  {
   "cell_type": "markdown",
   "metadata": {},
   "source": [
    "<strong>Collaboration:</strong> Working with other team members (if applicable) to solve problems and implement solutions is a valuable skill."
   ],
   "id": "a9b44df3-9e3c-48a3-bb4e-18f564f0a4d2"
  },
  {
   "cell_type": "raw",
   "metadata": {
    "raw_mimetype": "text/html"
   },
   "source": [
    "</li>"
   ],
   "id": "9ac5d0be-7e67-48cf-8400-56bd92960e62"
  },
  {
   "cell_type": "markdown",
   "metadata": {},
   "source": [],
   "id": "fbc9e109-b60e-486e-a58d-f07f49773ebe"
  },
  {
   "cell_type": "raw",
   "metadata": {
    "raw_mimetype": "text/html"
   },
   "source": [
    "</ul>"
   ],
   "id": "bb8de827-4246-44f0-8519-ae2e9a2960e1"
  },
  {
   "cell_type": "markdown",
   "metadata": {},
   "source": [],
   "id": "10e1e99b-6f2c-46b9-8e76-6db46783e6ab"
  },
  {
   "cell_type": "raw",
   "metadata": {
    "raw_mimetype": "text/html"
   },
   "source": [
    "<p>"
   ],
   "id": "7e9012ce-3a58-4b38-a715-844e7f189820"
  },
  {
   "cell_type": "markdown",
   "metadata": {},
   "source": [
    "<strong>Important Considerations:</strong>"
   ],
   "id": "012bac26-7548-42d6-a8d8-a895c1576b06"
  },
  {
   "cell_type": "raw",
   "metadata": {
    "raw_mimetype": "text/html"
   },
   "source": [
    "</p>"
   ],
   "id": "7cd54d69-d95b-403e-9676-d52e82ed9bbb"
  },
  {
   "cell_type": "markdown",
   "metadata": {},
   "source": [],
   "id": "66483cbe-8aaa-4773-8a01-32b7b06350ae"
  },
  {
   "cell_type": "raw",
   "metadata": {
    "raw_mimetype": "text/html"
   },
   "source": [
    "<ul>"
   ],
   "id": "f7fd50e2-fef6-4cd1-84ed-48f9b000be1c"
  },
  {
   "cell_type": "markdown",
   "metadata": {},
   "source": [],
   "id": "8081c9c1-cd71-4ecf-a0ca-fc731c4b63c4"
  },
  {
   "cell_type": "raw",
   "metadata": {
    "raw_mimetype": "text/html"
   },
   "source": [
    "<li>"
   ],
   "id": "317a3363-6e10-4c75-aa12-549863b52687"
  },
  {
   "cell_type": "markdown",
   "metadata": {},
   "source": [
    "<strong>Project Context:</strong> The value of this commit is highly dependent on the nature of the project. If this was intended to be a very small project with minimal contributions, the grade might be too harsh. If this was supposed to be a large multi-person project, the grade might be generous."
   ],
   "id": "41d9f1a8-d46a-466e-a9af-01a6177f0a97"
  },
  {
   "cell_type": "raw",
   "metadata": {
    "raw_mimetype": "text/html"
   },
   "source": [
    "</li>"
   ],
   "id": "e5e77f1f-c60c-4fbe-b663-92ba01f33db9"
  },
  {
   "cell_type": "markdown",
   "metadata": {},
   "source": [],
   "id": "8bb55638-6646-4f74-a936-a394c91416b1"
  },
  {
   "cell_type": "raw",
   "metadata": {
    "raw_mimetype": "text/html"
   },
   "source": [
    "<li>"
   ],
   "id": "ad795d8e-b0ec-493d-95de-9c2331748dab"
  },
  {
   "cell_type": "markdown",
   "metadata": {},
   "source": [
    "<strong>Learning Process:</strong> If this is an early stage of a course or project, the single commit may represent a student just getting started."
   ],
   "id": "c14b985f-5c15-460f-8c94-250603b6ebf2"
  },
  {
   "cell_type": "raw",
   "metadata": {
    "raw_mimetype": "text/html"
   },
   "source": [
    "</li>"
   ],
   "id": "d5bc1894-9891-486a-9585-e771d82b380d"
  },
  {
   "cell_type": "markdown",
   "metadata": {},
   "source": [],
   "id": "da06af86-db5f-4f19-9a48-7b3ee7950d85"
  },
  {
   "cell_type": "raw",
   "metadata": {
    "raw_mimetype": "text/html"
   },
   "source": [
    "</ul>"
   ],
   "id": "ed8445c5-b25f-427f-b98f-3ed362bc8ccb"
  },
  {
   "cell_type": "markdown",
   "metadata": {},
   "source": [],
   "id": "573f110d-57bb-461f-ba4c-8a02e3eba688"
  },
  {
   "cell_type": "raw",
   "metadata": {
    "raw_mimetype": "text/html"
   },
   "source": [
    "<p>"
   ],
   "id": "cf677777-c429-4989-8f75-58693069f62e"
  },
  {
   "cell_type": "markdown",
   "metadata": {},
   "source": [
    "I hope this analysis is helpful. Please let me know if you have more data or context to provide!"
   ],
   "id": "ab09ce1c-e627-40da-91e0-0b1f7cefaf5d"
  },
  {
   "cell_type": "raw",
   "metadata": {
    "raw_mimetype": "text/html"
   },
   "source": [
    "</p>"
   ],
   "id": "41ea5a4c-eba9-48cc-b1ad-e002d65f2c5c"
  },
  {
   "cell_type": "markdown",
   "metadata": {},
   "source": [
    "”"
   ],
   "id": "6a72574b-5d15-4f99-9c3e-52b136fccc7a"
  }
 ],
 "nbformat": 4,
 "nbformat_minor": 5,
 "metadata": {}
}
