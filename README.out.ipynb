{
 "cells": [
  {
   "cell_type": "markdown",
   "metadata": {},
   "source": [
    "# \n",
    "\n",
    "## Quarto Manuscript"
   ],
   "id": "26a72376-77bb-4e80-9207-dcac9d8a7ec8"
  },
  {
   "cell_type": "raw",
   "metadata": {
    "raw_mimetype": "text/html"
   },
   "source": [
    "<!-- badges: start -->"
   ],
   "id": "2be173c0-f511-4926-9f6d-cd0c3aa69db3"
  },
  {
   "cell_type": "markdown",
   "metadata": {},
   "source": [
    "[![paper](https://github.com/sds-capstone/quarto-manuscript/actions/workflows/publish.yml/badge.svg)](https://github.com/sds-capstone/quarto-manuscript/actions/workflows/publish.yml) <!-- badges: end -->\n",
    "\n",
    "You can view the published work at: <https://sds-capstone.github.io/quarto-manuscript/>\n",
    "\n",
    "## Note\n",
    "\n",
    "This is a template repo for generating a manuscript from Quarto that accompanies the tutorial at: [Quarto Manuscripts: RStudio](https://quarto.org/docs/manuscripts/authoring/rstudio.html)\n",
    "\n",
    "## Repository analysis via `chchchanges`\n",
    "\n",
    "### Current as of: March 21, 2025, 15:20:08\n",
    "\n",
    "Here is a summary of the commits made to this repository:"
   ],
   "id": "fa6b29c6-371a-40f5-8bc2-3cbadefeb333"
  },
  {
   "cell_type": "code",
   "execution_count": null,
   "metadata": {},
   "outputs": [
    {
     "output_type": "display_data",
     "metadata": {},
     "data": {}
    }
   ],
   "source": [
    "chchchanges::summarize_commits() |>\n",
    "  knitr::kable()"
   ],
   "id": "86292ed0-b668-4fe9-9dce-63a6297835cf"
  },
  {
   "cell_type": "markdown",
   "metadata": {},
   "source": [
    "The following analysis is automated via [Google Gemini](https://en.wikipedia.org/wiki/Gemini_(chatbot)) and the [`chchchanges`](https://github.com/beanumber/chchchanges) package.\n",
    "\n",
    "``` r\n",
    "chchchanges::summarize_git_with_llm(\n",
    "  show_prompts = TRUE, \n",
    "  user_prompt = \"Also assign letter grades to each contributor. \"\n",
    ") |>\n",
    "  markdown::mark()\n",
    "```\n",
    "\n",
    "    Using model = \"gemini-2.0-flash\".\n",
    "    System prompt: You are a friendly, supportive, college professor \n",
    "        evaluating student contributions to a git repository.\n",
    "\n",
    "    Prompt: Analyze the following data from a git repository \n",
    "        and tell me who deserves what credit for \n",
    "        contributing to the project. \n",
    "         Also assign letter grades to each contributor.  [{\"who\":\"ben.baumer@gmail.com\",\"num_commits\":1,\"first_commit\":\"2025-03-21 15:16:59 GMT\",\"last_commit\":\"2025-03-21 15:16:59 GMT\",\"days\":0}]\n",
    "\n",
    "\\[1\\] “"
   ],
   "id": "9f71be3d-61f8-49cf-b363-d88e3517a831"
  },
  {
   "cell_type": "raw",
   "metadata": {
    "raw_mimetype": "text/html"
   },
   "source": [
    "<p>"
   ],
   "id": "74ab571f-e442-4c0b-aa83-c6df80d57c1b"
  },
  {
   "cell_type": "markdown",
   "metadata": {},
   "source": [
    "Okay, I’d be happy to evaluate the contributions based on the provided data!"
   ],
   "id": "ce83f56a-bec4-413d-9598-60ec44493e27"
  },
  {
   "cell_type": "raw",
   "metadata": {
    "raw_mimetype": "text/html"
   },
   "source": [
    "</p>"
   ],
   "id": "f209f121-59e4-4f4e-8249-b8a296430698"
  },
  {
   "cell_type": "markdown",
   "metadata": {},
   "source": [],
   "id": "8f11fb78-3868-4f3c-86d6-b1f469ac6752"
  },
  {
   "cell_type": "raw",
   "metadata": {
    "raw_mimetype": "text/html"
   },
   "source": [
    "<p>"
   ],
   "id": "b8a3831f-452a-4f82-b895-e1e9b8cecc56"
  },
  {
   "cell_type": "markdown",
   "metadata": {},
   "source": [
    "It looks like we have only one contributor in this dataset:"
   ],
   "id": "5993fc83-44aa-424d-8177-e50be69c2472"
  },
  {
   "cell_type": "raw",
   "metadata": {
    "raw_mimetype": "text/html"
   },
   "source": [
    "</p>"
   ],
   "id": "c2957d07-6197-4315-bea4-ffa55a0417df"
  },
  {
   "cell_type": "markdown",
   "metadata": {},
   "source": [],
   "id": "831f724e-0483-4b83-a4b4-9e2f5919dd5b"
  },
  {
   "cell_type": "raw",
   "metadata": {
    "raw_mimetype": "text/html"
   },
   "source": [
    "<ul>"
   ],
   "id": "56f78979-845a-4044-8950-28a0ee6b821a"
  },
  {
   "cell_type": "markdown",
   "metadata": {},
   "source": [],
   "id": "56f56797-ea6b-406e-b5cc-64f19ccf4d5d"
  },
  {
   "cell_type": "raw",
   "metadata": {
    "raw_mimetype": "text/html"
   },
   "source": [
    "<li>"
   ],
   "id": "33d46080-4b45-4f8c-9dea-bebd21899ac0"
  },
  {
   "cell_type": "markdown",
   "metadata": {},
   "source": [
    "<strong><a href=\\\"mailto:ben.baumer@gmail.com\\\">ben.baumer@gmail.com</a></strong>"
   ],
   "id": "6c561d89-3f48-48c5-a83a-f8725190a067"
  },
  {
   "cell_type": "raw",
   "metadata": {
    "raw_mimetype": "text/html"
   },
   "source": [
    "</li>"
   ],
   "id": "7cd89bbf-7ad1-432e-a3ce-60f24983c40f"
  },
  {
   "cell_type": "markdown",
   "metadata": {},
   "source": [],
   "id": "a6df85fa-6e0c-4701-8648-243e3cd27937"
  },
  {
   "cell_type": "raw",
   "metadata": {
    "raw_mimetype": "text/html"
   },
   "source": [
    "</ul>"
   ],
   "id": "2ddbca02-0c42-441f-8bb5-7a7348a9b3f9"
  },
  {
   "cell_type": "markdown",
   "metadata": {},
   "source": [],
   "id": "61754ee1-4fb0-480a-b543-4cc9254a7664"
  },
  {
   "cell_type": "raw",
   "metadata": {
    "raw_mimetype": "text/html"
   },
   "source": [
    "<p>"
   ],
   "id": "f3ff6977-37d9-4a6a-9fbb-e4df8cf12619"
  },
  {
   "cell_type": "markdown",
   "metadata": {},
   "source": [
    "<strong>Analysis:</strong>"
   ],
   "id": "0aa2e468-8eea-4185-984b-f68adcd31f67"
  },
  {
   "cell_type": "raw",
   "metadata": {
    "raw_mimetype": "text/html"
   },
   "source": [
    "</p>"
   ],
   "id": "01734c0b-1f0c-41ab-89c4-cd6a6005df66"
  },
  {
   "cell_type": "markdown",
   "metadata": {},
   "source": [],
   "id": "b666193e-e65e-4469-a379-a37c3f1c4906"
  },
  {
   "cell_type": "raw",
   "metadata": {
    "raw_mimetype": "text/html"
   },
   "source": [
    "<ul>"
   ],
   "id": "fc1e6a94-5669-4ae0-88a6-a75a749eed98"
  },
  {
   "cell_type": "markdown",
   "metadata": {},
   "source": [],
   "id": "393152b1-9d0d-4826-8c73-aab8b7026de6"
  },
  {
   "cell_type": "raw",
   "metadata": {
    "raw_mimetype": "text/html"
   },
   "source": [
    "<li>"
   ],
   "id": "f715d27e-5745-43f9-aae1-107659443702"
  },
  {
   "cell_type": "markdown",
   "metadata": {},
   "source": [
    "<strong>Number of Commits:</strong> 1"
   ],
   "id": "016a3786-115a-4ecf-a869-02a86f4fb93a"
  },
  {
   "cell_type": "raw",
   "metadata": {
    "raw_mimetype": "text/html"
   },
   "source": [
    "</li>"
   ],
   "id": "9ed9b2d3-4846-458c-ba6f-d4867f21c07f"
  },
  {
   "cell_type": "markdown",
   "metadata": {},
   "source": [],
   "id": "87c868eb-55ad-490b-85aa-8b1a68111d11"
  },
  {
   "cell_type": "raw",
   "metadata": {
    "raw_mimetype": "text/html"
   },
   "source": [
    "<li>"
   ],
   "id": "2c72e7ad-64aa-45bf-9aa9-6255f93b6e3c"
  },
  {
   "cell_type": "markdown",
   "metadata": {},
   "source": [
    "<strong>Time Span:</strong> The single commit was made on 2025-03-21. This indicates a very short, possibly initial, contribution."
   ],
   "id": "660bc956-0d1a-46bf-a067-40789f6fe8e3"
  },
  {
   "cell_type": "raw",
   "metadata": {
    "raw_mimetype": "text/html"
   },
   "source": [
    "</li>"
   ],
   "id": "85e55995-7a9d-4034-957c-844750d81342"
  },
  {
   "cell_type": "markdown",
   "metadata": {},
   "source": [],
   "id": "6c042efe-884e-4e89-a535-bccba79067d1"
  },
  {
   "cell_type": "raw",
   "metadata": {
    "raw_mimetype": "text/html"
   },
   "source": [
    "</ul>"
   ],
   "id": "def19abb-b76e-458e-ae64-6bac5a54aa5f"
  },
  {
   "cell_type": "markdown",
   "metadata": {},
   "source": [],
   "id": "9232ac7c-6ee2-4394-b737-c27923093584"
  },
  {
   "cell_type": "raw",
   "metadata": {
    "raw_mimetype": "text/html"
   },
   "source": [
    "<p>"
   ],
   "id": "0f51cd84-6872-49ed-b0a4-b7a8cdf7cbc8"
  },
  {
   "cell_type": "markdown",
   "metadata": {},
   "source": [
    "<strong>Credit Allocation:</strong>"
   ],
   "id": "139efa36-34bd-44d2-b0c4-a90a0bf0de88"
  },
  {
   "cell_type": "raw",
   "metadata": {
    "raw_mimetype": "text/html"
   },
   "source": [
    "</p>"
   ],
   "id": "c89f9184-e3a1-479c-841c-f837dfe145dd"
  },
  {
   "cell_type": "markdown",
   "metadata": {},
   "source": [],
   "id": "e08daf60-0411-432c-9327-082eea224396"
  },
  {
   "cell_type": "raw",
   "metadata": {
    "raw_mimetype": "text/html"
   },
   "source": [
    "<p>"
   ],
   "id": "4d4a978a-37df-4bf1-8adb-d7a16879fd3d"
  },
  {
   "cell_type": "markdown",
   "metadata": {},
   "source": [
    "Since <a href=\\\"mailto:ben.baumer@gmail.com\\\">ben.baumer@gmail.com</a> is the <em>only</em> contributor in this dataset, they deserve 100% of the credit for any work represented by that single commit. It’s impossible to assess the scope or importance of that commit based solely on this data, but they are the only one who contributed code to the repository, so they get the credit."
   ],
   "id": "71f6e256-3995-40f8-8f41-1b64e97ef401"
  },
  {
   "cell_type": "raw",
   "metadata": {
    "raw_mimetype": "text/html"
   },
   "source": [
    "</p>"
   ],
   "id": "52c84836-ddab-4216-b437-24647f7e6aca"
  },
  {
   "cell_type": "markdown",
   "metadata": {},
   "source": [],
   "id": "d32de79e-4da2-4665-ae7c-7850a6feddf8"
  },
  {
   "cell_type": "raw",
   "metadata": {
    "raw_mimetype": "text/html"
   },
   "source": [
    "<p>"
   ],
   "id": "147eae83-b4a5-4d64-93da-deae2415da53"
  },
  {
   "cell_type": "markdown",
   "metadata": {},
   "source": [
    "<strong>Grade:</strong>"
   ],
   "id": "ed507225-4dd3-4e59-8d6d-b06b43fe676e"
  },
  {
   "cell_type": "raw",
   "metadata": {
    "raw_mimetype": "text/html"
   },
   "source": [
    "</p>"
   ],
   "id": "286a23c1-4d6a-46d9-aa17-90529d50f307"
  },
  {
   "cell_type": "markdown",
   "metadata": {},
   "source": [],
   "id": "7d0ee63b-b6af-4203-8108-c25e82a359bb"
  },
  {
   "cell_type": "raw",
   "metadata": {
    "raw_mimetype": "text/html"
   },
   "source": [
    "<p>"
   ],
   "id": "fb509477-7d01-42f4-ac59-e315fa717e10"
  },
  {
   "cell_type": "markdown",
   "metadata": {},
   "source": [
    "Given the limited information and the single commit, it’s difficult to provide a nuanced grade. However, we can provide a grade, which may or may not change as the project proceeds. The grade for the first contribution is:"
   ],
   "id": "1e198f7b-cbe7-48bb-9f60-0006a8b0e4a1"
  },
  {
   "cell_type": "raw",
   "metadata": {
    "raw_mimetype": "text/html"
   },
   "source": [
    "</p>"
   ],
   "id": "8908ba65-1fcb-40a7-aaf6-0feedf4fd30f"
  },
  {
   "cell_type": "markdown",
   "metadata": {},
   "source": [],
   "id": "052285c6-51dc-4171-903e-a050aa912d9f"
  },
  {
   "cell_type": "raw",
   "metadata": {
    "raw_mimetype": "text/html"
   },
   "source": [
    "<ul>"
   ],
   "id": "39701578-6f34-4809-b45e-5ac06da29f56"
  },
  {
   "cell_type": "markdown",
   "metadata": {},
   "source": [],
   "id": "b778220f-6d53-4122-ad53-ded04739f00c"
  },
  {
   "cell_type": "raw",
   "metadata": {
    "raw_mimetype": "text/html"
   },
   "source": [
    "<li>"
   ],
   "id": "4d95f182-6901-4f09-a427-e27b2dcf7482"
  },
  {
   "cell_type": "markdown",
   "metadata": {},
   "source": [
    "<strong><a href=\\\"mailto:ben.baumer@gmail.com\\\">ben.baumer@gmail.com</a>: C</strong>"
   ],
   "id": "b5ef8603-f6cb-47b3-befc-9cddba796638"
  },
  {
   "cell_type": "raw",
   "metadata": {
    "raw_mimetype": "text/html"
   },
   "source": [
    "</li>"
   ],
   "id": "7fc2a20d-12a3-4905-84d8-6cb505be44b8"
  },
  {
   "cell_type": "markdown",
   "metadata": {},
   "source": [],
   "id": "a7439a1c-4a3b-4b38-8e06-7f7149da118a"
  },
  {
   "cell_type": "raw",
   "metadata": {
    "raw_mimetype": "text/html"
   },
   "source": [
    "</ul>"
   ],
   "id": "e18a6545-a513-4c4d-8132-2da6c0712647"
  },
  {
   "cell_type": "markdown",
   "metadata": {},
   "source": [],
   "id": "eeda3e9e-980f-44f3-ab7c-d4ad39abf7ca"
  },
  {
   "cell_type": "raw",
   "metadata": {
    "raw_mimetype": "text/html"
   },
   "source": [
    "<p>"
   ],
   "id": "5dccb6b8-2b9b-423c-8002-d69f8543d7f3"
  },
  {
   "cell_type": "markdown",
   "metadata": {},
   "source": [
    "<strong>Explanation of the Grade:</strong>"
   ],
   "id": "e9b37aa9-548a-4dad-b905-9803fe078fe4"
  },
  {
   "cell_type": "raw",
   "metadata": {
    "raw_mimetype": "text/html"
   },
   "source": [
    "</p>"
   ],
   "id": "08ab8fb9-5332-4d92-8699-d6b0a9a97ad8"
  },
  {
   "cell_type": "markdown",
   "metadata": {},
   "source": [],
   "id": "452c2ed5-3588-42df-9bf4-32b75d96e672"
  },
  {
   "cell_type": "raw",
   "metadata": {
    "raw_mimetype": "text/html"
   },
   "source": [
    "<ul>"
   ],
   "id": "3f7b3b8e-ea68-40a9-8c9f-8325e79fa855"
  },
  {
   "cell_type": "markdown",
   "metadata": {},
   "source": [],
   "id": "b881a452-d153-40b1-88a7-2402be9fe60a"
  },
  {
   "cell_type": "raw",
   "metadata": {
    "raw_mimetype": "text/html"
   },
   "source": [
    "<li>"
   ],
   "id": "a1d1df89-82cd-47f5-806e-51fd9107ce32"
  },
  {
   "cell_type": "markdown",
   "metadata": {},
   "source": [
    "<strong>C:</strong> This grade acknowledges the initial contribution. It’s a fair starting point, indicating that the student has begun engaging with the project. A grade of C indicates that the student has met the minimum expectations for participation thus far, but has plenty of opportunity to improve."
   ],
   "id": "f7abe3cf-fcde-4af6-9a4d-8809e40c4154"
  },
  {
   "cell_type": "raw",
   "metadata": {
    "raw_mimetype": "text/html"
   },
   "source": [
    "</li>"
   ],
   "id": "c4856bbf-f80f-4987-8fa6-3490ccca8e5a"
  },
  {
   "cell_type": "markdown",
   "metadata": {},
   "source": [],
   "id": "f0025de8-293b-4a88-a3a2-d79c72c72127"
  },
  {
   "cell_type": "raw",
   "metadata": {
    "raw_mimetype": "text/html"
   },
   "source": [
    "</ul>"
   ],
   "id": "bc2cfb1d-3d41-4795-b7d0-9a6f8e955a5a"
  },
  {
   "cell_type": "markdown",
   "metadata": {},
   "source": [],
   "id": "718574cc-9ed9-46ad-86ed-d4c69e3e7a64"
  },
  {
   "cell_type": "raw",
   "metadata": {
    "raw_mimetype": "text/html"
   },
   "source": [
    "<p>"
   ],
   "id": "344f38bf-6265-4dd4-a5de-9fb362574c90"
  },
  {
   "cell_type": "markdown",
   "metadata": {},
   "source": [
    "<strong>Recommendations:</strong>"
   ],
   "id": "b94664e9-488c-487f-8c4a-878685bbc6be"
  },
  {
   "cell_type": "raw",
   "metadata": {
    "raw_mimetype": "text/html"
   },
   "source": [
    "</p>"
   ],
   "id": "94e44690-ec2f-4444-8508-810c53568268"
  },
  {
   "cell_type": "markdown",
   "metadata": {},
   "source": [],
   "id": "5a999bbf-ff10-4a96-8aae-1c1a974f673e"
  },
  {
   "cell_type": "raw",
   "metadata": {
    "raw_mimetype": "text/html"
   },
   "source": [
    "<ul>"
   ],
   "id": "936e0de4-86e0-4465-b2b4-6ea733a1c5f0"
  },
  {
   "cell_type": "markdown",
   "metadata": {},
   "source": [],
   "id": "57ae719b-b293-455d-b115-a50b7e688190"
  },
  {
   "cell_type": "raw",
   "metadata": {
    "raw_mimetype": "text/html"
   },
   "source": [
    "<li>"
   ],
   "id": "c7c3812f-14a3-430d-9c8c-23ee61488b49"
  },
  {
   "cell_type": "markdown",
   "metadata": {},
   "source": [
    "<strong>Further Contributions:</strong> Encourage <a href=\\\"mailto:ben.baumer@gmail.com\\\">ben.baumer@gmail.com</a> to continue making commits, addressing more complex issues, and actively participating in the project."
   ],
   "id": "fd270f1e-c18d-4d63-823e-bfb632280a63"
  },
  {
   "cell_type": "raw",
   "metadata": {
    "raw_mimetype": "text/html"
   },
   "source": [
    "</li>"
   ],
   "id": "0ba98520-40ee-4545-bc31-e19fb20c8027"
  },
  {
   "cell_type": "markdown",
   "metadata": {},
   "source": [],
   "id": "19bd6cb0-5986-45f3-8f2f-3afab2952098"
  },
  {
   "cell_type": "raw",
   "metadata": {
    "raw_mimetype": "text/html"
   },
   "source": [
    "<li>"
   ],
   "id": "4d3ba52b-d1fa-4dd8-abeb-4f3430f9ef93"
  },
  {
   "cell_type": "markdown",
   "metadata": {},
   "source": [
    "<strong>Code Quality:</strong> As more code is added, ensure it adheres to coding standards, is well-documented, and addresses the project’s requirements effectively."
   ],
   "id": "33715981-bb9b-4780-b0ed-f92383135cc2"
  },
  {
   "cell_type": "raw",
   "metadata": {
    "raw_mimetype": "text/html"
   },
   "source": [
    "</li>"
   ],
   "id": "f9a14942-60b0-45cd-9621-6ac88900a1c8"
  },
  {
   "cell_type": "markdown",
   "metadata": {},
   "source": [],
   "id": "34590e23-5434-4719-a374-05a81f6c4c82"
  },
  {
   "cell_type": "raw",
   "metadata": {
    "raw_mimetype": "text/html"
   },
   "source": [
    "<li>"
   ],
   "id": "d892bb4a-3e9c-4e43-bac2-f1cba89dab04"
  },
  {
   "cell_type": "markdown",
   "metadata": {},
   "source": [
    "<strong>Collaboration:</strong> If this is a group project, encourage the student to collaborate with others, review their code, and provide constructive feedback."
   ],
   "id": "73b8345d-d066-45e5-8b9d-6727d4e4aeeb"
  },
  {
   "cell_type": "raw",
   "metadata": {
    "raw_mimetype": "text/html"
   },
   "source": [
    "</li>"
   ],
   "id": "eecd2bd4-29ec-40bf-8148-009aad709195"
  },
  {
   "cell_type": "markdown",
   "metadata": {},
   "source": [],
   "id": "7491e0ec-0217-4bee-9bdc-2b09a16b4418"
  },
  {
   "cell_type": "raw",
   "metadata": {
    "raw_mimetype": "text/html"
   },
   "source": [
    "<li>"
   ],
   "id": "8bb4b4f2-25c9-4c02-b8c0-473dc04a80fd"
  },
  {
   "cell_type": "markdown",
   "metadata": {},
   "source": [
    "<strong>Project Scope:</strong> Consider the overall goals of the project. Ensure the student’s contributions are aligned with those goals and address the project’s core requirements."
   ],
   "id": "a11b1d00-9a21-4769-a6d6-63897758de1d"
  },
  {
   "cell_type": "raw",
   "metadata": {
    "raw_mimetype": "text/html"
   },
   "source": [
    "</li>"
   ],
   "id": "505a5fed-3ca3-43ce-957c-e89a434480cd"
  },
  {
   "cell_type": "markdown",
   "metadata": {},
   "source": [],
   "id": "c7623c05-0ae9-4423-a203-5950875d601c"
  },
  {
   "cell_type": "raw",
   "metadata": {
    "raw_mimetype": "text/html"
   },
   "source": [
    "<li>"
   ],
   "id": "58d73052-733e-4f5a-bee8-00eec891f774"
  },
  {
   "cell_type": "markdown",
   "metadata": {},
   "source": [
    "<strong>Commit Messages:</strong> Make sure that the contributor uses detailed commit messages that describe what they have done."
   ],
   "id": "adf7fa64-da95-46bd-83ba-1e1694945d5f"
  },
  {
   "cell_type": "raw",
   "metadata": {
    "raw_mimetype": "text/html"
   },
   "source": [
    "</li>"
   ],
   "id": "2b68e42e-beab-4c36-86e0-70b793d1d7ca"
  },
  {
   "cell_type": "markdown",
   "metadata": {},
   "source": [],
   "id": "4ce86cae-fb78-4721-8524-1b29f36c189a"
  },
  {
   "cell_type": "raw",
   "metadata": {
    "raw_mimetype": "text/html"
   },
   "source": [
    "</ul>"
   ],
   "id": "ea8ed721-408a-4886-b6b0-116022c1cac3"
  },
  {
   "cell_type": "markdown",
   "metadata": {},
   "source": [],
   "id": "05db5e8c-5095-4a17-b420-2170d007af59"
  },
  {
   "cell_type": "raw",
   "metadata": {
    "raw_mimetype": "text/html"
   },
   "source": [
    "<p>"
   ],
   "id": "e2ff1542-6c7f-4a4f-9dbc-9b18ec104bdf"
  },
  {
   "cell_type": "markdown",
   "metadata": {},
   "source": [
    "Please provide more data as the project progresses so I can give a more comprehensive assessment! I’m here to help your students succeed."
   ],
   "id": "9ca2549e-878e-4055-a6ce-047f2cae8ae9"
  },
  {
   "cell_type": "raw",
   "metadata": {
    "raw_mimetype": "text/html"
   },
   "source": [
    "</p>"
   ],
   "id": "7f05db88-6e0c-407e-91c1-e68c79e30b68"
  },
  {
   "cell_type": "markdown",
   "metadata": {},
   "source": [
    "”"
   ],
   "id": "a2996d20-a0e3-4cef-acf5-f5abb398516e"
  }
 ],
 "nbformat": 4,
 "nbformat_minor": 5,
 "metadata": {}
}
