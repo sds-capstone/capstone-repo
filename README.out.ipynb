{
 "cells": [
  {
   "cell_type": "markdown",
   "metadata": {},
   "source": [
    "# \n",
    "\n",
    "## Quarto Manuscript"
   ],
   "id": "0ceb8ce2-7601-4815-8746-2a52595ce0ce"
  },
  {
   "cell_type": "raw",
   "metadata": {
    "raw_mimetype": "text/html"
   },
   "source": [
    "<!-- badges: start -->"
   ],
   "id": "0410ea69-323f-48e0-aa8c-bcdad2ae4ab9"
  },
  {
   "cell_type": "markdown",
   "metadata": {},
   "source": [
    "[![paper](https://github.com/sds-capstone/quarto-manuscript/actions/workflows/publish.yml/badge.svg)](https://github.com/sds-capstone/quarto-manuscript/actions/workflows/publish.yml) <!-- badges: end -->\n",
    "\n",
    "You can view the published work at: <https://sds-capstone.github.io/quarto-manuscript/>\n",
    "\n",
    "## Note\n",
    "\n",
    "This is a template repo for generating a manuscript from Quarto that accompanies the tutorial at: [Quarto Manuscripts: RStudio](https://quarto.org/docs/manuscripts/authoring/rstudio.html)\n",
    "\n",
    "## Repository analysis via `chchchanges`\n",
    "\n",
    "### Current as of: March 21, 2025, 15:07:17\n",
    "\n",
    "Here is a summary of the commits made to this repository:"
   ],
   "id": "ed55aa29-2009-4644-83dd-acab624f7cf9"
  },
  {
   "cell_type": "code",
   "execution_count": null,
   "metadata": {},
   "outputs": [
    {
     "output_type": "display_data",
     "metadata": {},
     "data": {}
    }
   ],
   "source": [
    "chchchanges::summarize_commits() |>\n",
    "  knitr::kable()"
   ],
   "id": "ca7ff81b-bff3-4fa5-aba3-b76391a194a2"
  },
  {
   "cell_type": "markdown",
   "metadata": {},
   "source": [
    "The following analysis is automated via [Google Gemini](https://en.wikipedia.org/wiki/Gemini_(chatbot)) and the [`chchchanges`](https://github.com/beanumber/chchchanges) package.\n",
    "\n",
    "``` r\n",
    "chchchanges::summarize_git_with_llm(\n",
    "  show_prompts = TRUE, \n",
    "  user_prompt = \"Also assign letter grades to each contributor. \"\n",
    ") |>\n",
    "  markdown::mark()\n",
    "```\n",
    "\n",
    "    Using model = \"gemini-2.0-flash\".\n",
    "    System prompt: You are a friendly, supportive, college professor \n",
    "        evaluating student contributions to a git repository.\n",
    "\n",
    "    Prompt: Analyze the following data from a git repository \n",
    "        and tell me who deserves what credit for \n",
    "        contributing to the project. \n",
    "         Also assign letter grades to each contributor.  [{\"who\":\"ben.baumer@gmail.com\",\"num_commits\":1,\"first_commit\":\"2025-03-21 15:05:13 GMT\",\"last_commit\":\"2025-03-21 15:05:13 GMT\",\"days\":0}]\n",
    "\n",
    "\\[1\\] “"
   ],
   "id": "b3654b6a-09de-4e00-a0ca-1e86f800cc71"
  },
  {
   "cell_type": "raw",
   "metadata": {
    "raw_mimetype": "text/html"
   },
   "source": [
    "<p>"
   ],
   "id": "7a364ce9-1609-47b2-ae99-24f9bb4ab5cf"
  },
  {
   "cell_type": "markdown",
   "metadata": {},
   "source": [
    "Okay, I’m happy to evaluate the contributions based on the provided Git data."
   ],
   "id": "b9114f20-6d85-4fbb-b393-ffbc764f767d"
  },
  {
   "cell_type": "raw",
   "metadata": {
    "raw_mimetype": "text/html"
   },
   "source": [
    "</p>"
   ],
   "id": "ce221e59-4fdd-46e8-9f29-43a0f0941ad6"
  },
  {
   "cell_type": "markdown",
   "metadata": {},
   "source": [],
   "id": "8d7da947-91d3-49f9-a208-73927dba7048"
  },
  {
   "cell_type": "raw",
   "metadata": {
    "raw_mimetype": "text/html"
   },
   "source": [
    "<p>"
   ],
   "id": "ceabf283-15b5-49ab-bef9-50497ee2f8f6"
  },
  {
   "cell_type": "markdown",
   "metadata": {},
   "source": [
    "<strong>Analysis:</strong>"
   ],
   "id": "5cd479e0-0903-4461-af1e-ccf3fce3578d"
  },
  {
   "cell_type": "raw",
   "metadata": {
    "raw_mimetype": "text/html"
   },
   "source": [
    "</p>"
   ],
   "id": "daae4567-7439-47b9-aaa4-d57128e1d07f"
  },
  {
   "cell_type": "markdown",
   "metadata": {},
   "source": [],
   "id": "6f20fe9e-5bfe-4ec4-8fe9-381526b4f705"
  },
  {
   "cell_type": "raw",
   "metadata": {
    "raw_mimetype": "text/html"
   },
   "source": [
    "<p>"
   ],
   "id": "62e47c01-05b2-4d09-8ace-3236aa7bedc2"
  },
  {
   "cell_type": "markdown",
   "metadata": {},
   "source": [
    "Based on the data, we have one contributor:"
   ],
   "id": "7f7fc77c-dc66-48b4-8cdf-4f4e77264106"
  },
  {
   "cell_type": "raw",
   "metadata": {
    "raw_mimetype": "text/html"
   },
   "source": [
    "</p>"
   ],
   "id": "c84f5a60-9385-4d4e-a49c-d48e793080a5"
  },
  {
   "cell_type": "markdown",
   "metadata": {},
   "source": [],
   "id": "9283cc21-5c86-4efe-bb58-056b3ab7626e"
  },
  {
   "cell_type": "raw",
   "metadata": {
    "raw_mimetype": "text/html"
   },
   "source": [
    "<ul>"
   ],
   "id": "8b493f66-3af2-49d8-b126-e5a32c7ef2ea"
  },
  {
   "cell_type": "markdown",
   "metadata": {},
   "source": [],
   "id": "7523f4f5-d809-408e-9def-e8236049fb49"
  },
  {
   "cell_type": "raw",
   "metadata": {
    "raw_mimetype": "text/html"
   },
   "source": [
    "<li>"
   ],
   "id": "7b3b55cb-9f54-49d2-9b73-8c94bd95adbd"
  },
  {
   "cell_type": "markdown",
   "metadata": {},
   "source": [
    "<strong><a href=\\\"mailto:ben.baumer@gmail.com\\\">ben.baumer@gmail.com</a>:</strong> This person made 1 commit. All activity was concentrated on a single day (2025-03-21)."
   ],
   "id": "f1604513-9b66-40b8-9cd2-7d4adb2abe9a"
  },
  {
   "cell_type": "raw",
   "metadata": {
    "raw_mimetype": "text/html"
   },
   "source": [
    "</li>"
   ],
   "id": "e76d17a4-094f-457a-b091-656454eae7c3"
  },
  {
   "cell_type": "markdown",
   "metadata": {},
   "source": [],
   "id": "bae23ff0-60e2-4d92-8289-91d0386f558d"
  },
  {
   "cell_type": "raw",
   "metadata": {
    "raw_mimetype": "text/html"
   },
   "source": [
    "</ul>"
   ],
   "id": "49d9a246-9e10-45eb-9081-c6cdfa237f14"
  },
  {
   "cell_type": "markdown",
   "metadata": {},
   "source": [],
   "id": "72badfe5-cbd5-49ea-aa5a-f626d6e71f00"
  },
  {
   "cell_type": "raw",
   "metadata": {
    "raw_mimetype": "text/html"
   },
   "source": [
    "<p>"
   ],
   "id": "d6787622-fecd-4680-9ee7-b681fbba3482"
  },
  {
   "cell_type": "markdown",
   "metadata": {},
   "source": [
    "<strong>Credit Assignment and Grading:</strong>"
   ],
   "id": "4eba6f42-83e5-4acc-90e8-bf2991461ce9"
  },
  {
   "cell_type": "raw",
   "metadata": {
    "raw_mimetype": "text/html"
   },
   "source": [
    "</p>"
   ],
   "id": "66252f41-e788-46d7-bfdc-e104c95cd5b9"
  },
  {
   "cell_type": "markdown",
   "metadata": {},
   "source": [],
   "id": "a9708971-4750-4c3a-a8aa-0f3c242f9b19"
  },
  {
   "cell_type": "raw",
   "metadata": {
    "raw_mimetype": "text/html"
   },
   "source": [
    "<ul>"
   ],
   "id": "be428d49-c25d-46c8-9d99-0b69406575f5"
  },
  {
   "cell_type": "markdown",
   "metadata": {},
   "source": [],
   "id": "f059550a-f8ac-47c3-ba6f-7352df4b6564"
  },
  {
   "cell_type": "raw",
   "metadata": {
    "raw_mimetype": "text/html"
   },
   "source": [
    "<li>"
   ],
   "id": "8f84026a-2c80-4e23-939c-26baaa4ffa5f"
  },
  {
   "cell_type": "markdown",
   "metadata": {},
   "source": [],
   "id": "793a09a5-b21d-45e2-8825-315216f52672"
  },
  {
   "cell_type": "raw",
   "metadata": {
    "raw_mimetype": "text/html"
   },
   "source": [
    "<p>"
   ],
   "id": "5a42a144-cdc2-4e07-8e0a-44d9c93a2165"
  },
  {
   "cell_type": "markdown",
   "metadata": {},
   "source": [
    "<strong><a href=\\\"mailto:ben.baumer@gmail.com\\\">ben.baumer@gmail.com</a>:</strong>"
   ],
   "id": "d576cf88-ece5-4913-8eed-4b0402b2ce41"
  },
  {
   "cell_type": "raw",
   "metadata": {
    "raw_mimetype": "text/html"
   },
   "source": [
    "</p>"
   ],
   "id": "8caf86a1-d958-4996-8cb6-8a17b45eae9b"
  },
  {
   "cell_type": "markdown",
   "metadata": {},
   "source": [],
   "id": "6d96e81f-451a-4921-8e7a-bf5719f64082"
  },
  {
   "cell_type": "raw",
   "metadata": {
    "raw_mimetype": "text/html"
   },
   "source": [
    "<ul>"
   ],
   "id": "d64b830f-5796-43d5-8c52-9927fab0fbed"
  },
  {
   "cell_type": "markdown",
   "metadata": {},
   "source": [],
   "id": "065dea88-5c03-4c8a-89d3-7733a2d5ee8b"
  },
  {
   "cell_type": "raw",
   "metadata": {
    "raw_mimetype": "text/html"
   },
   "source": [
    "<li>"
   ],
   "id": "09fd2d3a-8b70-4f5f-b7f1-f677e45f95c9"
  },
  {
   "cell_type": "markdown",
   "metadata": {},
   "source": [
    "<strong>Contribution:</strong> Completed 1 commit to the project."
   ],
   "id": "7dd0bf9b-a6f6-4636-b84d-5941060f1ed3"
  },
  {
   "cell_type": "raw",
   "metadata": {
    "raw_mimetype": "text/html"
   },
   "source": [
    "</li>"
   ],
   "id": "432b217b-dfc3-46e5-bbaf-32768c2c8826"
  },
  {
   "cell_type": "markdown",
   "metadata": {},
   "source": [],
   "id": "aafec272-a38e-40ad-aaa8-fcd24f2144ab"
  },
  {
   "cell_type": "raw",
   "metadata": {
    "raw_mimetype": "text/html"
   },
   "source": [
    "<li>"
   ],
   "id": "627300b2-ed80-4b35-a7d2-3380793295a7"
  },
  {
   "cell_type": "markdown",
   "metadata": {},
   "source": [
    "<strong>Grade:</strong> C"
   ],
   "id": "4ca2a126-d17d-49e9-a4bb-098f60b17f56"
  },
  {
   "cell_type": "raw",
   "metadata": {
    "raw_mimetype": "text/html"
   },
   "source": [
    "</li>"
   ],
   "id": "11b0af1b-b972-4c50-ad01-e05bdd716745"
  },
  {
   "cell_type": "markdown",
   "metadata": {},
   "source": [],
   "id": "23c969d5-c52c-4b51-af23-8caf422fec91"
  },
  {
   "cell_type": "raw",
   "metadata": {
    "raw_mimetype": "text/html"
   },
   "source": [
    "</ul>"
   ],
   "id": "3eb19702-314d-4699-a563-18220668c247"
  },
  {
   "cell_type": "markdown",
   "metadata": {},
   "source": [],
   "id": "1c994ca6-36e4-467f-bc6d-16037b8b0d5d"
  },
  {
   "cell_type": "raw",
   "metadata": {
    "raw_mimetype": "text/html"
   },
   "source": [
    "</li>"
   ],
   "id": "41906a3e-7faa-411e-a6de-5fe02d9a24ca"
  },
  {
   "cell_type": "markdown",
   "metadata": {},
   "source": [],
   "id": "43b09bf6-66ce-4441-88af-f49a1e4d0256"
  },
  {
   "cell_type": "raw",
   "metadata": {
    "raw_mimetype": "text/html"
   },
   "source": [
    "</ul>"
   ],
   "id": "9c3cff3c-1476-4762-b989-47d8eef2a9a6"
  },
  {
   "cell_type": "markdown",
   "metadata": {},
   "source": [],
   "id": "a3bb9f34-1c31-4568-abf4-bf2321b50c14"
  },
  {
   "cell_type": "raw",
   "metadata": {
    "raw_mimetype": "text/html"
   },
   "source": [
    "<p>"
   ],
   "id": "5072d291-0905-421b-bd8b-873a53e5a931"
  },
  {
   "cell_type": "markdown",
   "metadata": {},
   "source": [
    "I am assigning a grade of “C”. While a single commit does represent <em>some</em> contribution to the project, it’s on the lower end of the spectrum."
   ],
   "id": "ec05f5cd-4a6c-4b61-9465-a6e9347ca82d"
  },
  {
   "cell_type": "raw",
   "metadata": {
    "raw_mimetype": "text/html"
   },
   "source": [
    "</p>"
   ],
   "id": "5c2d89ce-88eb-4a24-aa2b-00abfce12209"
  },
  {
   "cell_type": "markdown",
   "metadata": {},
   "source": [],
   "id": "8d1d47f2-96f0-4ea0-bf94-d2044405ec38"
  },
  {
   "cell_type": "raw",
   "metadata": {
    "raw_mimetype": "text/html"
   },
   "source": [
    "<p>"
   ],
   "id": "72256081-2199-42ce-a786-723a7d422362"
  },
  {
   "cell_type": "markdown",
   "metadata": {},
   "source": [
    "Keep up the good work! I look forward to seeing the project evolve as you make more contributions."
   ],
   "id": "ecfa77bf-d3b1-4541-b3bb-529d53364f04"
  },
  {
   "cell_type": "raw",
   "metadata": {
    "raw_mimetype": "text/html"
   },
   "source": [
    "</p>"
   ],
   "id": "68e87762-843a-46a2-939b-50f1fbd87338"
  },
  {
   "cell_type": "markdown",
   "metadata": {},
   "source": [
    "”"
   ],
   "id": "e521a159-77ab-407a-9ba1-aca97ab0469c"
  }
 ],
 "nbformat": 4,
 "nbformat_minor": 5,
 "metadata": {}
}
