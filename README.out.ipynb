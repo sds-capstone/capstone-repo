{
 "cells": [
  {
   "cell_type": "markdown",
   "metadata": {},
   "source": [
    "# \n",
    "\n",
    "## Quarto Manuscript"
   ],
   "id": "11ad2939-504f-422c-824a-37bfef91eba4"
  },
  {
   "cell_type": "raw",
   "metadata": {
    "raw_mimetype": "text/html"
   },
   "source": [
    "<!-- badges: start -->"
   ],
   "id": "093299e0-e9a8-41e7-9735-9ab21c2cb055"
  },
  {
   "cell_type": "markdown",
   "metadata": {},
   "source": [
    "[![paper](https://github.com/sds-capstone/quarto-manuscript/actions/workflows/publish.yml/badge.svg)](https://github.com/sds-capstone/quarto-manuscript/actions/workflows/publish.yml) <!-- badges: end -->\n",
    "\n",
    "You can view the published work at: <https://sds-capstone.github.io/quarto-manuscript/>\n",
    "\n",
    "## Note\n",
    "\n",
    "This is a template repo for generating a manuscript from Quarto that accompanies the tutorial at: [Quarto Manuscripts: RStudio](https://quarto.org/docs/manuscripts/authoring/rstudio.html)\n",
    "\n",
    "## Repository analysis via `chchchanges`\n",
    "\n",
    "Here is a summary of the commits made to this repository:"
   ],
   "id": "7a752b22-4d1a-4d85-afb2-51a9435e251b"
  },
  {
   "cell_type": "code",
   "execution_count": null,
   "metadata": {},
   "outputs": [
    {
     "output_type": "display_data",
     "metadata": {},
     "data": {}
    }
   ],
   "source": [
    "chchchanges::summarize_commits() |>\n",
    "  knitr::kable()"
   ],
   "id": "82821c93-9897-4497-b09e-25214919885c"
  },
  {
   "cell_type": "markdown",
   "metadata": {},
   "source": [
    "The following analysis is automated via [Google Gemini](https://en.wikipedia.org/wiki/Gemini_(chatbot)) and the [`chchchanges`](https://github.com/beanumber/chchchanges) package.\n",
    "\n",
    "``` r\n",
    "chchchanges::summarize_git_with_llm(\n",
    "  show_prompts = TRUE, \n",
    "  user_prompt = \"Also assign letter grades to each contributor. \"\n",
    ") |>\n",
    "  markdown::mark()\n",
    "```\n",
    "\n",
    "    Using model = \"gemini-1.5-flash\".\n",
    "    System prompt: You are a friendly, supportive, college professor \n",
    "        evaluating student contributions to a git repository.\n",
    "\n",
    "    Prompt: Analyze the following data from a git repository \n",
    "        and tell me who deserves what credit for \n",
    "        contributing to the project. \n",
    "         Also assign letter grades to each contributor.  [{\"who\":\"ben.baumer@gmail.com\",\"num_commits\":1,\"first_commit\":\"2025-02-05 16:22:32 GMT\",\"last_commit\":\"2025-02-05 16:22:32 GMT\",\"days\":0}]\n",
    "\n",
    "\\[1\\] “"
   ],
   "id": "799db1d5-2c7b-4d42-b64a-d4aa8baf3e32"
  },
  {
   "cell_type": "raw",
   "metadata": {
    "raw_mimetype": "text/html"
   },
   "source": [
    "<p>"
   ],
   "id": "bb1b77d0-4403-4eee-a9bc-ce840cc83670"
  },
  {
   "cell_type": "markdown",
   "metadata": {},
   "source": [
    "Okay, let’s take a look at the contribution data you’ve provided. It appears we only have information for one contributor: <a href=\\\"mailto:ben.baumer@gmail.com\\\">ben.baumer@gmail.com</a>. This individual made a single commit on February 5th, 2025."
   ],
   "id": "4c15b2ab-5aba-44c0-8ca6-572bd64341c2"
  },
  {
   "cell_type": "raw",
   "metadata": {
    "raw_mimetype": "text/html"
   },
   "source": [
    "</p>"
   ],
   "id": "89f57d19-5563-44c9-ad22-2fc9a541c0e4"
  },
  {
   "cell_type": "markdown",
   "metadata": {},
   "source": [],
   "id": "cb25c2fa-e105-46cd-8a19-9f4b3fa2e943"
  },
  {
   "cell_type": "raw",
   "metadata": {
    "raw_mimetype": "text/html"
   },
   "source": [
    "<p>"
   ],
   "id": "d934933e-c030-471e-a388-1c4ad51e72a9"
  },
  {
   "cell_type": "markdown",
   "metadata": {},
   "source": [
    "Based solely on this limited data, it’s difficult to fully assess the quality and impact of Ben’s contribution. A single commit could represent anything from a minor typo fix to a significant feature addition. We’d need more information, such as commit messages (to understand the context of the changes) and the size and complexity of the changes within the commit itself."
   ],
   "id": "dec60942-19e1-4db7-96fb-17136163c875"
  },
  {
   "cell_type": "raw",
   "metadata": {
    "raw_mimetype": "text/html"
   },
   "source": [
    "</p>"
   ],
   "id": "96b9a942-1ac0-4a5a-800a-469a0ea2c8ed"
  },
  {
   "cell_type": "markdown",
   "metadata": {},
   "source": [],
   "id": "125daa2c-3f90-47f5-aa22-c403d2075d2c"
  },
  {
   "cell_type": "raw",
   "metadata": {
    "raw_mimetype": "text/html"
   },
   "source": [
    "<p>"
   ],
   "id": "d30948f0-d302-489a-8a0d-918b65ecf4b4"
  },
  {
   "cell_type": "markdown",
   "metadata": {},
   "source": [
    "<strong>Therefore, to assign a grade fairly, I need more context.</strong> However, I can offer a provisional assessment based on what we <em>do</em> know:"
   ],
   "id": "b0c686ab-22d1-4e60-b411-b2f1fea667d5"
  },
  {
   "cell_type": "raw",
   "metadata": {
    "raw_mimetype": "text/html"
   },
   "source": [
    "</p>"
   ],
   "id": "ab3dedeb-f696-4add-a712-80dec73f0055"
  },
  {
   "cell_type": "markdown",
   "metadata": {},
   "source": [],
   "id": "2ac44c16-ec10-415a-8d43-d39bb1df7247"
  },
  {
   "cell_type": "raw",
   "metadata": {
    "raw_mimetype": "text/html"
   },
   "source": [
    "<ul>"
   ],
   "id": "c5cc1448-e5f1-4da8-80ba-de1767780bf7"
  },
  {
   "cell_type": "markdown",
   "metadata": {},
   "source": [],
   "id": "2eb0b938-80b8-4763-8b3f-aa2e0690bbc0"
  },
  {
   "cell_type": "raw",
   "metadata": {
    "raw_mimetype": "text/html"
   },
   "source": [
    "<li>"
   ],
   "id": "5b1338b4-f69a-4d81-a30f-996140b3b275"
  },
  {
   "cell_type": "markdown",
   "metadata": {},
   "source": [
    "<strong>Grade:</strong> Given the limited information, I’d tentatively give Ben a <strong>C</strong>. This reflects the minimal level of demonstrated participation. A single commit isn’t enough to show a strong grasp of the project or consistent engagement."
   ],
   "id": "f704d90b-ea6e-4119-8002-6b6ca960d215"
  },
  {
   "cell_type": "raw",
   "metadata": {
    "raw_mimetype": "text/html"
   },
   "source": [
    "</li>"
   ],
   "id": "eb44de7e-c33d-4d43-852d-0c3c32779aca"
  },
  {
   "cell_type": "markdown",
   "metadata": {},
   "source": [],
   "id": "08b740fe-bfbc-4b5a-b924-aea3a5a8e4b2"
  },
  {
   "cell_type": "raw",
   "metadata": {
    "raw_mimetype": "text/html"
   },
   "source": [
    "</ul>"
   ],
   "id": "f4a88c65-3d0e-4dea-a627-5bcbab73615f"
  },
  {
   "cell_type": "markdown",
   "metadata": {},
   "source": [],
   "id": "d4355a2c-61b8-4355-9432-bb541a85c31e"
  },
  {
   "cell_type": "raw",
   "metadata": {
    "raw_mimetype": "text/html"
   },
   "source": [
    "<p>"
   ],
   "id": "96377ac1-e918-4af0-9e29-dee7f05911d3"
  },
  {
   "cell_type": "markdown",
   "metadata": {},
   "source": [
    "<strong>To improve this evaluation, please provide the following:</strong>"
   ],
   "id": "9d557c16-314e-4c27-90f1-0072f101d29c"
  },
  {
   "cell_type": "raw",
   "metadata": {
    "raw_mimetype": "text/html"
   },
   "source": [
    "</p>"
   ],
   "id": "45a70f83-c0f2-47a4-98bc-96b495e23d59"
  },
  {
   "cell_type": "markdown",
   "metadata": {},
   "source": [],
   "id": "c668e6d9-0641-49bc-a156-dd02d0185c7f"
  },
  {
   "cell_type": "raw",
   "metadata": {
    "raw_mimetype": "text/html"
   },
   "source": [
    "<ul>"
   ],
   "id": "d55732d2-c642-4851-b6b9-8a5cb60377aa"
  },
  {
   "cell_type": "markdown",
   "metadata": {},
   "source": [],
   "id": "c49a4fd3-da93-4074-8e6e-da64568d0ca2"
  },
  {
   "cell_type": "raw",
   "metadata": {
    "raw_mimetype": "text/html"
   },
   "source": [
    "<li>"
   ],
   "id": "272b1a5f-7e91-49b1-9bd9-316f34c8f2eb"
  },
  {
   "cell_type": "markdown",
   "metadata": {},
   "source": [
    "<strong>Commit messages:</strong> The messages associated with Ben’s commit would tell us a great deal about the nature of the contribution."
   ],
   "id": "8e06de77-8e82-46f3-9801-bdbf0769d71c"
  },
  {
   "cell_type": "raw",
   "metadata": {
    "raw_mimetype": "text/html"
   },
   "source": [
    "</li>"
   ],
   "id": "7bd29650-36b9-431d-b768-81f5b868e3dc"
  },
  {
   "cell_type": "markdown",
   "metadata": {},
   "source": [],
   "id": "1ccfee66-776e-4ced-89b6-5de1ab1052a2"
  },
  {
   "cell_type": "raw",
   "metadata": {
    "raw_mimetype": "text/html"
   },
   "source": [
    "<li>"
   ],
   "id": "6d33a071-8968-4ee7-ac07-e2f1a48edc61"
  },
  {
   "cell_type": "markdown",
   "metadata": {},
   "source": [
    "<strong>Code changes:</strong> Reviewing the actual code changes made in the commit would provide insight into the complexity and quality of the work."
   ],
   "id": "a2525085-26d3-45d4-9377-6491e2e6b244"
  },
  {
   "cell_type": "raw",
   "metadata": {
    "raw_mimetype": "text/html"
   },
   "source": [
    "</li>"
   ],
   "id": "68184001-2d0b-4dad-8741-518144844cf0"
  },
  {
   "cell_type": "markdown",
   "metadata": {},
   "source": [],
   "id": "2f65319f-f079-4528-8aca-2a7b92ace1ac"
  },
  {
   "cell_type": "raw",
   "metadata": {
    "raw_mimetype": "text/html"
   },
   "source": [
    "<li>"
   ],
   "id": "3465164e-6bbd-4a69-9380-e30b54ba965f"
  },
  {
   "cell_type": "markdown",
   "metadata": {},
   "source": [
    "<strong>Project context:</strong> Understanding the overall goals of the project and the contribution’s impact on those goals is essential for a fair assessment."
   ],
   "id": "3b08a17b-93ea-42fe-80f5-da73e97caba2"
  },
  {
   "cell_type": "raw",
   "metadata": {
    "raw_mimetype": "text/html"
   },
   "source": [
    "</li>"
   ],
   "id": "417a83af-f8ff-4a4c-8a20-dca6724a6d66"
  },
  {
   "cell_type": "markdown",
   "metadata": {},
   "source": [],
   "id": "cdb39c2b-e5f7-4b8b-85db-70fe2832a5bf"
  },
  {
   "cell_type": "raw",
   "metadata": {
    "raw_mimetype": "text/html"
   },
   "source": [
    "<li>"
   ],
   "id": "dfb81de5-92e9-4fc2-a74a-e493dd9d7ac9"
  },
  {
   "cell_type": "markdown",
   "metadata": {},
   "source": [
    "<strong>Data on other contributors:</strong> If other students are involved, their contributions should be included in the analysis for a complete picture of the team’s effort."
   ],
   "id": "342fc29f-3bd9-4b67-baf4-e79ee3b7eef4"
  },
  {
   "cell_type": "raw",
   "metadata": {
    "raw_mimetype": "text/html"
   },
   "source": [
    "</li>"
   ],
   "id": "faa7a5b9-c437-429f-8c99-ae2946b22e96"
  },
  {
   "cell_type": "markdown",
   "metadata": {},
   "source": [],
   "id": "0e51bb21-ae9c-493a-b2ac-40d9759ecdfc"
  },
  {
   "cell_type": "raw",
   "metadata": {
    "raw_mimetype": "text/html"
   },
   "source": [
    "</ul>"
   ],
   "id": "ce3c1c82-1dde-4fc3-b89e-4a5365830f70"
  },
  {
   "cell_type": "markdown",
   "metadata": {},
   "source": [],
   "id": "e77dea37-118e-4a66-8df3-aff3385cc782"
  },
  {
   "cell_type": "raw",
   "metadata": {
    "raw_mimetype": "text/html"
   },
   "source": [
    "<p>"
   ],
   "id": "0085162b-01b4-409f-b027-cfed26ab6d47"
  },
  {
   "cell_type": "markdown",
   "metadata": {},
   "source": [
    "Once I have this additional information, I can provide a more accurate and detailed assessment of Ben’s contribution and assign a more appropriate grade. Remember, grading isn’t just about the number of commits but also the <em>quality</em> and <em>impact</em> of those contributions. Let’s work together to get a better understanding of everyone’s work!"
   ],
   "id": "8577b7c7-d5b1-4775-9a26-dbe91dee4593"
  },
  {
   "cell_type": "raw",
   "metadata": {
    "raw_mimetype": "text/html"
   },
   "source": [
    "</p>"
   ],
   "id": "e5e24c52-9a68-4eee-8381-ed55944039aa"
  },
  {
   "cell_type": "markdown",
   "metadata": {},
   "source": [
    "”"
   ],
   "id": "e45ed099-7080-413d-9006-13fc8f483624"
  }
 ],
 "nbformat": 4,
 "nbformat_minor": 5,
 "metadata": {}
}
